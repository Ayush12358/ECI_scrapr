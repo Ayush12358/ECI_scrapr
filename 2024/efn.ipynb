{
 "cells": [
  {
   "cell_type": "markdown",
   "metadata": {},
   "source": [
    "# Analysis based on Effective number of candidates "
   ]
  },
  {
   "cell_type": "markdown",
   "metadata": {},
   "source": [
    "## Lok Sabha"
   ]
  },
  {
   "cell_type": "code",
   "execution_count": 3,
   "metadata": {},
   "outputs": [
    {
     "name": "stdout",
     "output_type": "stream",
     "text": [
      "Enp for 2024 Lok Sabha Elections (WITHOUT consider coalitions) is  4.12\n",
      "Enp for 2024 Lok Sabha Elections (consider coalitions) is  2.11\n"
     ]
    }
   ],
   "source": [
    "import numpy as np\n",
    "# following data is copy pasted from eci website\n",
    "l = [\"Bharatiya Janata Party - BJP\t239\t1\t240\" , \"Indian National Congress - INC\t96\t3\t99\" , \"Samajwadi Party - SP\t37\t0\t37\" , \"All India Trinamool Congress - AITC\t29\t0\t29\" , \"Dravida Munnetra Kazhagam - DMK\t20\t2\t22\" , \"Telugu Desam - TDP\t16\t0\t16\" , \"Janata Dal (United) - JD(U)\t12\t0\t12\" , \"Shiv Sena (Uddhav Balasaheb Thackrey) - SHSUBT\t9\t0\t9\" , \"Nationalist Congress Party Sharadchandra Pawar - NCPSP\t7\t1\t8\" , \"Shiv Sena - SHS\t7\t0\t7\" , \"Lok Janshakti Party(Ram Vilas) - LJPRV\t5\t0\t5\" , \"Yuvajana Sramika Rythu Congress Party - YSRCP\t4\t0\t4\" , \"Rashtriya Janata Dal - RJD\t4\t0\t4\" , \"Communist Party of India (Marxist) - CPI(M)\t4\t0\t4\" , \"Indian Union Muslim League - IUML\t3\t0\t3\" , \"Aam Aadmi Party - AAAP\t3\t0\t3\" , \"Jharkhand Mukti Morcha - JMM\t3\t0\t3\" , \"Janasena Party - JnP\t2\t0\t2\" , \"Communist Party of India (Marxist-Leninist) (Liberation) - CPI(ML)(L)\t2\t0\t2\" , \"Janata Dal (Secular) - JD(S)\t2\t0\t2\" , \"Viduthalai Chiruthaigal Katchi - VCK\t2\t0\t2\" , \"Communist Party of India - CPI\t2\t0\t2\" , \"Rashtriya Lok Dal - RLD\t2\t0\t2\" , \"Jammu & Kashmir National Conference - JKN\t2\t0\t2\" , \"United People’s Party Liberal - UPPL\t1\t0\t1\" , \"Asom Gana Parishad - AGP\t1\t0\t1\" , \"Hindustani Awam Morcha (Secular) - HAMS\t1\t0\t1\" , \"Kerala Congress - KEC\t1\t0\t1\" , \"Revolutionary Socialist Party - RSP\t1\t0\t1\" , \"Nationalist Congress Party - NCP\t1\t0\t1\" , \"Voice of the People Party - VOTPP\t1\t0\t1\" , \"Zoram People’s Movement - ZPM\t1\t0\t1\" , \"Shiromani Akali Dal - SAD\t1\t0\t1\" , \"Rashtriya Loktantrik Party - RLTP\t1\t0\t1\" , \"Bharat Adivasi Party - BHRTADVSIP\t1\t0\t1\" , \"Sikkim Krantikari Morcha - SKM\t1\t0\t1\" , \"Marumalarchi Dravida Munnetra Kazhagam - MDMK\t1\t0\t1\" , \"Aazad Samaj Party (Kanshi Ram) - ASPKR\t1\t0\t1\" , \"Apna Dal (Soneylal) - ADAL\t1\t0\t1\" , \"AJSU Party - AJSUP\t1\t0\t1\" , \"All India Majlis-E-Ittehadul Muslimeen - AIMIM\t1\t0\t1\" , \"Independent - IND\t7\t0\t7\"]\n",
    "l = [x.split()[-3:] for x in l]\n",
    "l = [[int(x) for x in y] for y in l]\n",
    "total_seats = np.sum([x[0] for x in l])\n",
    "sum = 0\n",
    "sum = 1/np.sum([ (x[0]/total_seats)**2 for x in l])\n",
    "sum = round(sum, 2)\n",
    "print (\"Enp for 2024 Lok Sabha Elections (WITHOUT consider coalitions) is \", sum)\n",
    "\n",
    "l = [\"NDA 293\", \"INDIA 232\", \"Others 18\"]\n",
    "l = [x.split()[-1:] for x in l]\n",
    "l = [[int(x) for x in y] for y in l]\n",
    "total_seats = np.sum([x[0] for x in l])\n",
    "sum = 0\n",
    "sum = 1/np.sum([ (x[0]/total_seats)**2 for x in l])\n",
    "sum = round(sum, 2)\n",
    "print (\"Enp for 2024 Lok Sabha Elections (consider coalitions) is \", sum)\n",
    "\n"
   ]
  },
  {
   "cell_type": "markdown",
   "metadata": {},
   "source": [
    "## State Assembly"
   ]
  },
  {
   "cell_type": "code",
   "execution_count": 4,
   "metadata": {},
   "outputs": [
    {
     "name": "stderr",
     "output_type": "stream",
     "text": [
      "/tmp/ipykernel_6571/3550746592.py:31: RuntimeWarning: invalid value encountered in scalar divide\n",
      "  sum = 1/np.sum([ (d[state][x]/total_seats)**2 for x in d[state]])\n"
     ]
    }
   ],
   "source": [
    "import numpy as np\n",
    "import pandas as pd\n",
    "data = pd.read_csv('data/results_2024_winners.csv')\n",
    "data = np.array(data)\n",
    "data = data[:,[0,4]]\n",
    "d = {}\n",
    "for x in data:\n",
    "    if x[0] not in d:\n",
    "        d[x[0]] = {}\n",
    "    if x[1] not in d[x[0]]:\n",
    "        d[x[0]][x[1]] = 0\n",
    "    d[x[0]][x[1]] += 1\n",
    "# list of parties\n",
    "parties = []\n",
    "for state in d:\n",
    "    for party in d[state]:\n",
    "        if party not in parties:\n",
    "            parties.append(party)\n",
    "d['Parties'] = {}\n",
    "for party in parties:\n",
    "    d['Parties'][party] = 0\n",
    "df = pd.DataFrame(d)\n",
    "df = df.T\n",
    "df.index.name = 'State'\n",
    "df_data = df\n",
    "\n",
    "# calculate enp for each state\n",
    "enp = {}\n",
    "for state in d:\n",
    "    total_seats = np.sum([d[state][x] for x in d[state]])\n",
    "    sum = 1/np.sum([ (d[state][x]/total_seats)**2 for x in d[state]])\n",
    "    sum = round(sum, 2)\n",
    "    enp[state] = sum\n",
    "df = pd.DataFrame(enp.items(), columns=['State', 'Enp'])\n",
    "df_data = pd.merge(df, df_data, on='State')\n",
    "df_data.to_csv('output/results_2024_states.csv', index= False)\n"
   ]
  },
  {
   "cell_type": "markdown",
   "metadata": {},
   "source": [
    "## District "
   ]
  },
  {
   "cell_type": "code",
   "execution_count": 5,
   "metadata": {},
   "outputs": [],
   "source": [
    "import numpy as np\n",
    "import pandas as pd\n",
    "data = pd.read_csv('data/results_2024.csv')\n",
    "data = np.array(data)\n",
    "new_data = {}\n",
    "for i in np.unique(data[:,0]):\n",
    "    i_data = data[data[:,0] == i]\n",
    "    arr = {}\n",
    "    for j in np.unique(i_data[:,2]):\n",
    "        # make a list of all the rows with the same state and party\n",
    "        l = data[(data[:,0] == i) & (data[:,2] == j)][:,9]\n",
    "        arr[j] = l\n",
    "    new_data[i] = arr\n",
    "for i in new_data:\n",
    "    sum_i = 0\n",
    "    for j in new_data[i]:\n",
    "        list_percent = new_data[i][j]\n",
    "        for k in range(len(list_percent)):\n",
    "            id=0\n",
    "            try :\n",
    "                id = float(list_percent[k])\n",
    "            except:\n",
    "                id = 0\n",
    "            list_percent[k] = id\n",
    "        if np.sum(list_percent) <99.9:\n",
    "            continue\n",
    "        enp = 1/np.sum([ (x/100)**2 for x in list_percent])\n",
    "        new_data[i][j] = [enp, list_percent]\n",
    "    # average enp\n",
    "    sum_i = np.sum([new_data[i][j][0] for j in new_data[i]])/len(new_data[i])\n",
    "    new_data[i] = [sum_i, new_data[i]]\n",
    "lines = [\"State,Party,ENP,Avg ENP\\n\"]\n",
    "for i in new_data:\n",
    "    for j in new_data[i][1]:\n",
    "        # 2 decimal points\n",
    "        lines.append(f\"{i},{j},{new_data[i][1][j][0]:.2f},{new_data[i][0]:.2f}\\n\")\n",
    "with open('output/results_2024_district.csv', 'w') as f:\n",
    "    f.writelines(lines)\n",
    "\n"
   ]
  },
  {
   "cell_type": "code",
   "execution_count": 6,
   "metadata": {},
   "outputs": [],
   "source": [
    "cat = [1.8, 2.4, 3]\n",
    "count = [0, 0, 0, 0]\n",
    "for i in new_data:\n",
    "    for j in new_data[i][1]:\n",
    "        enp = new_data[i][1][j][0]\n",
    "        if enp < cat[0]:\n",
    "            count[0] += 1\n",
    "        elif enp < cat[1]:\n",
    "            count[1] += 1\n",
    "        elif enp < cat[2]:\n",
    "            count[2] += 1\n",
    "        else:\n",
    "            count[3] += 1\n",
    "num = [[[\"ENP < 1.8\",f\"{count[0]}\"]], [[\"ENP 1.8-2.4\",f\"{count[1]}\"]], [[\"ENP 2.4-3\",f\"{count[2]}\"]], [[\"ENP > 3\",f\"{count[3]}\"]]]\n",
    "for i in new_data:\n",
    "    for j in new_data[i][1]:\n",
    "        enp = new_data[i][1][j][0]\n",
    "        if enp < cat[0]:\n",
    "            num[0].append([i, j])\n",
    "        elif enp < cat[1]:\n",
    "            num[1].append([i, j])\n",
    "        elif enp < cat[2]:\n",
    "            num[2].append([i, j])\n",
    "        else:\n",
    "            num[3].append([i, j])\n",
    "num = [num[1], num[2], num[3], num[0]]\n",
    "lines = []\n",
    "for i in range(len(num[0])):\n",
    "    lines.append(f\"{num[0][i][0]},{num[0][i][1]}\")\n",
    "for i in range(len(num[1])):\n",
    "    lines[i] += f\",{num[1][i][0]},{num[1][i][1]}\"\n",
    "for i in range(len(num[2])):\n",
    "    lines[i] += f\",{num[2][i][0]},{num[2][i][1]}\"\n",
    "for i in range(len(num[3])):\n",
    "    lines[i] += f\",{num[3][i][0]},{num[3][i][1]}\"\n",
    "for i in range(len(lines)):\n",
    "    lines[i] += \"\\n\"\n",
    "with open('output/results_2024_district_cat.csv', 'w') as f:\n",
    "    f.writelines(lines)\n",
    "\n"
   ]
  }
 ],
 "metadata": {
  "kernelspec": {
   "display_name": "Python 3",
   "language": "python",
   "name": "python3"
  },
  "language_info": {
   "codemirror_mode": {
    "name": "ipython",
    "version": 3
   },
   "file_extension": ".py",
   "mimetype": "text/x-python",
   "name": "python",
   "nbconvert_exporter": "python",
   "pygments_lexer": "ipython3",
   "version": "3.10.12"
  }
 },
 "nbformat": 4,
 "nbformat_minor": 2
}
